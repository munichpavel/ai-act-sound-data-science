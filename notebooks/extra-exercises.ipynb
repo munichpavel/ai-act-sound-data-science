{
 "cells": [
  {
   "cell_type": "markdown",
   "id": "e04f9ae9-55a2-471f-945f-c901aaeb6fad",
   "metadata": {},
   "source": [
    "# Optional exercises and tasks\n",
    "\n",
    "in case you finish the scheduled ones early."
   ]
  },
  {
   "cell_type": "markdown",
   "id": "2c9034bc",
   "metadata": {},
   "source": [
    "## Exercise: Dependency management\n",
    "\n",
    "To get [mybinder.org](binder) to work for remote running of the workshop notebooks, I needed to put a `requirements.txt` file at the root of this project. \n",
    "\n",
    "1. What are some reasons for not pinning dependency versions in [../requirements.txt](requirements.txt)?\n",
    "2. If I weren't forced to use a `requirements.txt` file, what are other options for our use case (with pros and cons)?\n",
    "\n",
    "### Resources\n",
    "\n",
    "* [https://packaging.python.org/en/latest/discussions/install-requires-vs-requirements/](https://packaging.python.org/en/latest/discussions/install-requires-vs-requirements/), and links therein."
   ]
  },
  {
   "cell_type": "code",
   "execution_count": null,
   "id": "f5a7e152-9265-479d-a0b0-77aa2362c835",
   "metadata": {},
   "outputs": [],
   "source": []
  }
 ],
 "metadata": {
  "kernelspec": {
   "display_name": "Python 3 (ipykernel)",
   "language": "python",
   "name": "python3"
  },
  "language_info": {
   "codemirror_mode": {
    "name": "ipython",
    "version": 3
   },
   "file_extension": ".py",
   "mimetype": "text/x-python",
   "name": "python",
   "nbconvert_exporter": "python",
   "pygments_lexer": "ipython3",
   "version": "3.12.9"
  }
 },
 "nbformat": 4,
 "nbformat_minor": 5
}
