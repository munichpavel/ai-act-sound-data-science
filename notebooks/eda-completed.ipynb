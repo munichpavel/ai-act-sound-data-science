{
 "cells": [
  {
   "cell_type": "markdown",
   "id": "ab95bf3b-d394-49e2-8828-57db6b25c7ea",
   "metadata": {},
   "source": [
    "# Exploratory data analysis of synthetic health insurance customer and claims data"
   ]
  },
  {
   "cell_type": "code",
   "execution_count": null,
   "id": "c481fbe8-32da-4265-b287-9389392c401c",
   "metadata": {},
   "outputs": [],
   "source": [
    "from pathlib import Path\n",
    "\n",
    "import pandas as pd"
   ]
  },
  {
   "cell_type": "markdown",
   "id": "854fc3fe-70ae-4cf4-8f54-37cb80f05ef1",
   "metadata": {},
   "source": [
    "## Load (restricted) health data\n",
    "\n",
    "Before getting our hands on more realistic, synthetic data with dozens of raw features, we restrict attention to a few of them."
   ]
  },
  {
   "cell_type": "code",
   "execution_count": null,
   "id": "78afb794-c349-4b22-91e3-f809dfe1fde9",
   "metadata": {},
   "outputs": [],
   "source": [
    "data_dir = Path('.') / '..' / 'data'\n",
    "\n",
    "\n",
    "simple_customer_df = pd.read_csv(data_dir / 'simplified-customer-health.csv')\n",
    "simple_customer_df.head()"
   ]
  }
 ],
 "metadata": {
  "kernelspec": {
   "display_name": "Python 3 (ipykernel)",
   "language": "python",
   "name": "python3"
  },
  "language_info": {
   "codemirror_mode": {
    "name": "ipython",
    "version": 3
   },
   "file_extension": ".py",
   "mimetype": "text/x-python",
   "name": "python",
   "nbconvert_exporter": "python",
   "pygments_lexer": "ipython3",
   "version": "3.12.9"
  }
 },
 "nbformat": 4,
 "nbformat_minor": 5
}
