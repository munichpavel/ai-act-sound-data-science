{
 "cells": [
  {
   "cell_type": "markdown",
   "id": "ab95bf3b-d394-49e2-8828-57db6b25c7ea",
   "metadata": {},
   "source": [
    "# Data quality"
   ]
  },
  {
   "cell_type": "code",
   "execution_count": 1,
   "id": "c481fbe8-32da-4265-b287-9389392c401c",
   "metadata": {},
   "outputs": [
    {
     "data": {
      "text/html": [
       "\n",
       "            <div>\n",
       "                <ins><a href=\"https://ydata.ai/register\">Upgrade to ydata-sdk</a></ins>\n",
       "                <p>\n",
       "                    Improve your data and profiling with ydata-sdk, featuring data quality scoring, redundancy detection, outlier identification, text validation, and synthetic data generation.\n",
       "                </p>\n",
       "            </div>\n",
       "            "
      ],
      "text/plain": [
       "<IPython.core.display.HTML object>"
      ]
     },
     "metadata": {},
     "output_type": "display_data"
    }
   ],
   "source": [
    "from pathlib import Path\n",
    "\n",
    "import pandas as pd\n",
    "from ydata_profiling import ProfileReport"
   ]
  },
  {
   "cell_type": "markdown",
   "id": "854fc3fe-70ae-4cf4-8f54-37cb80f05ef1",
   "metadata": {},
   "source": [
    "## Load (restricted) health data\n",
    "\n",
    "We consider synthetic, simplified data a small number of features."
   ]
  },
  {
   "cell_type": "code",
   "execution_count": 2,
   "id": "78afb794-c349-4b22-91e3-f809dfe1fde9",
   "metadata": {},
   "outputs": [
    {
     "data": {
      "text/html": [
       "<div>\n",
       "<style scoped>\n",
       "    .dataframe tbody tr th:only-of-type {\n",
       "        vertical-align: middle;\n",
       "    }\n",
       "\n",
       "    .dataframe tbody tr th {\n",
       "        vertical-align: top;\n",
       "    }\n",
       "\n",
       "    .dataframe thead th {\n",
       "        text-align: right;\n",
       "    }\n",
       "</style>\n",
       "<table border=\"1\" class=\"dataframe\">\n",
       "  <thead>\n",
       "    <tr style=\"text-align: right;\">\n",
       "      <th></th>\n",
       "      <th>customer_id</th>\n",
       "      <th>height</th>\n",
       "      <th>weight</th>\n",
       "      <th>occupation_group_idx</th>\n",
       "      <th>gender_idx</th>\n",
       "      <th>skin_cancer</th>\n",
       "      <th>depression</th>\n",
       "    </tr>\n",
       "  </thead>\n",
       "  <tbody>\n",
       "    <tr>\n",
       "      <th>0</th>\n",
       "      <td>0</td>\n",
       "      <td>162.29231</td>\n",
       "      <td>83.763466</td>\n",
       "      <td>3</td>\n",
       "      <td>0</td>\n",
       "      <td>0.0</td>\n",
       "      <td>0.0</td>\n",
       "    </tr>\n",
       "    <tr>\n",
       "      <th>1</th>\n",
       "      <td>1</td>\n",
       "      <td>136.25010</td>\n",
       "      <td>53.333600</td>\n",
       "      <td>2</td>\n",
       "      <td>0</td>\n",
       "      <td>0.0</td>\n",
       "      <td>0.0</td>\n",
       "    </tr>\n",
       "    <tr>\n",
       "      <th>2</th>\n",
       "      <td>2</td>\n",
       "      <td>162.22852</td>\n",
       "      <td>78.866710</td>\n",
       "      <td>0</td>\n",
       "      <td>0</td>\n",
       "      <td>0.0</td>\n",
       "      <td>0.0</td>\n",
       "    </tr>\n",
       "    <tr>\n",
       "      <th>3</th>\n",
       "      <td>3</td>\n",
       "      <td>206.18896</td>\n",
       "      <td>141.281810</td>\n",
       "      <td>2</td>\n",
       "      <td>1</td>\n",
       "      <td>0.0</td>\n",
       "      <td>0.0</td>\n",
       "    </tr>\n",
       "    <tr>\n",
       "      <th>4</th>\n",
       "      <td>4</td>\n",
       "      <td>168.00403</td>\n",
       "      <td>108.018810</td>\n",
       "      <td>3</td>\n",
       "      <td>1</td>\n",
       "      <td>0.0</td>\n",
       "      <td>0.0</td>\n",
       "    </tr>\n",
       "  </tbody>\n",
       "</table>\n",
       "</div>"
      ],
      "text/plain": [
       "   customer_id     height      weight  occupation_group_idx  gender_idx  \\\n",
       "0            0  162.29231   83.763466                     3           0   \n",
       "1            1  136.25010   53.333600                     2           0   \n",
       "2            2  162.22852   78.866710                     0           0   \n",
       "3            3  206.18896  141.281810                     2           1   \n",
       "4            4  168.00403  108.018810                     3           1   \n",
       "\n",
       "   skin_cancer  depression  \n",
       "0          0.0         0.0  \n",
       "1          0.0         0.0  \n",
       "2          0.0         0.0  \n",
       "3          0.0         0.0  \n",
       "4          0.0         0.0  "
      ]
     },
     "execution_count": 2,
     "metadata": {},
     "output_type": "execute_result"
    }
   ],
   "source": [
    "project_root = Path('.') / '..' / '..'\n",
    "data_dir = project_root / 'data'\n",
    "notebooks_dir = project_root / 'notebooks'\n",
    "eda_out_dir = notebooks_dir / 'eda-output'\n",
    "eda_out_dir.mkdir(exist_ok=True)\n",
    "\n",
    "\n",
    "simple_customer_df = pd.read_csv(data_dir / 'simplified-customer-health.csv')\n",
    "simple_customer_df.head()"
   ]
  },
  {
   "cell_type": "code",
   "execution_count": 3,
   "id": "e5bdca69-6e0e-4774-800f-ecb31e4eeb93",
   "metadata": {},
   "outputs": [
    {
     "data": {
      "text/html": [
       "<div>\n",
       "<style scoped>\n",
       "    .dataframe tbody tr th:only-of-type {\n",
       "        vertical-align: middle;\n",
       "    }\n",
       "\n",
       "    .dataframe tbody tr th {\n",
       "        vertical-align: top;\n",
       "    }\n",
       "\n",
       "    .dataframe thead th {\n",
       "        text-align: right;\n",
       "    }\n",
       "</style>\n",
       "<table border=\"1\" class=\"dataframe\">\n",
       "  <thead>\n",
       "    <tr style=\"text-align: right;\">\n",
       "      <th></th>\n",
       "      <th>customer_id</th>\n",
       "      <th>agg_claim_amount</th>\n",
       "      <th>year</th>\n",
       "    </tr>\n",
       "  </thead>\n",
       "  <tbody>\n",
       "    <tr>\n",
       "      <th>0</th>\n",
       "      <td>0</td>\n",
       "      <td>10.26</td>\n",
       "      <td>2022</td>\n",
       "    </tr>\n",
       "    <tr>\n",
       "      <th>1</th>\n",
       "      <td>1</td>\n",
       "      <td>0.00</td>\n",
       "      <td>2022</td>\n",
       "    </tr>\n",
       "    <tr>\n",
       "      <th>2</th>\n",
       "      <td>2</td>\n",
       "      <td>0.00</td>\n",
       "      <td>2022</td>\n",
       "    </tr>\n",
       "    <tr>\n",
       "      <th>3</th>\n",
       "      <td>3</td>\n",
       "      <td>0.03</td>\n",
       "      <td>2022</td>\n",
       "    </tr>\n",
       "    <tr>\n",
       "      <th>4</th>\n",
       "      <td>4</td>\n",
       "      <td>4.84</td>\n",
       "      <td>2022</td>\n",
       "    </tr>\n",
       "  </tbody>\n",
       "</table>\n",
       "</div>"
      ],
      "text/plain": [
       "   customer_id  agg_claim_amount  year\n",
       "0            0             10.26  2022\n",
       "1            1              0.00  2022\n",
       "2            2              0.00  2022\n",
       "3            3              0.03  2022\n",
       "4            4              4.84  2022"
      ]
     },
     "execution_count": 3,
     "metadata": {},
     "output_type": "execute_result"
    }
   ],
   "source": [
    "aggregate_claims_df = pd.read_csv(data_dir / 'aggregate-claim.csv')\n",
    "aggregate_claims_df.head()"
   ]
  },
  {
   "cell_type": "markdown",
   "id": "eaedcc5a-ab02-473b-9780-9d8b3545facc",
   "metadata": {},
   "source": [
    "## Explore data with [ydata-profiling]()"
   ]
  },
  {
   "cell_type": "code",
   "execution_count": null,
   "id": "4a85a0bc-3ad4-4d03-9eba-b81b2730aa64",
   "metadata": {},
   "outputs": [
    {
     "data": {
      "application/vnd.jupyter.widget-view+json": {
       "model_id": "5444fa35f34d4c44959009a9e1a3c976",
       "version_major": 2,
       "version_minor": 0
      },
      "text/plain": [
       "Summarize dataset:   0%|          | 0/5 [00:00<?, ?it/s]"
      ]
     },
     "metadata": {},
     "output_type": "display_data"
    },
    {
     "name": "stderr",
     "output_type": "stream",
     "text": [
      "\n",
      "100%|██████████████████████████████████████████████████| 7/7 [00:00<00:00, 118387.61it/s]\u001b[A\n"
     ]
    },
    {
     "data": {
      "application/vnd.jupyter.widget-view+json": {
       "model_id": "e8cf70b1e53240c6b5159c1b518f4e50",
       "version_major": 2,
       "version_minor": 0
      },
      "text/plain": [
       "Generate report structure:   0%|          | 0/1 [00:00<?, ?it/s]"
      ]
     },
     "metadata": {},
     "output_type": "display_data"
    },
    {
     "data": {
      "application/vnd.jupyter.widget-view+json": {
       "model_id": "22b95808738045cbb4ba0f31ceff3b54",
       "version_major": 2,
       "version_minor": 0
      },
      "text/plain": [
       "Render HTML:   0%|          | 0/1 [00:00<?, ?it/s]"
      ]
     },
     "metadata": {},
     "output_type": "display_data"
    }
   ],
   "source": [
    "# minimal set to True due to BinderHub resource limitations\n",
    "profile_health = ProfileReport(simple_customer_df, title=\"Simple customer health data\", minimal=True)\n",
    "# Write to disk\n",
    "profile_health.to_file(eda_out_dir / 'simple-health-eda.html')\n",
    "# Display in notebook (note: this step may crash binderhub. A workaround is to open created html in binderhub)\n",
    "# profile_health"
   ]
  },
  {
   "cell_type": "code",
   "execution_count": null,
   "id": "12610b5e-c9de-4d83-ba2d-f877035f9dd7",
   "metadata": {},
   "outputs": [],
   "source": [
    "# minimal set to True due to BinderHub resource limitations\n",
    "profile_claims = ProfileReport(aggregate_claims_df, title=\"Aggregate claims data\", minimal=True)\n",
    "# Write to disk\n",
    "profile_claims.to_file(eda_out_dir / 'aggregate-claims-eda.html')\n",
    "# Display in notebook (note: this step may crash binderhub. A workaround is to open created html in binderhub)\n",
    "# profile_claims"
   ]
  },
  {
   "cell_type": "markdown",
   "id": "dd9fe0d3-c15c-4f46-9e22-f6025deedbf1",
   "metadata": {},
   "source": [
    "## Task: Data quality concerns\n",
    "\n",
    "Given your use-case of clustering existing insurance customers into segments for pricing of private health insurance, identify data quality issues or questions for business experts in the data sets `data/simplified-customer-health.csv` and `data/aggregate-claims.csv`."
   ]
  },
  {
   "cell_type": "markdown",
   "id": "7cc5e09f-13ea-4c31-8415-9ba96793359b",
   "metadata": {},
   "source": [
    "## A solution: \n",
    "\n",
    "Data quality issues\n",
    "\n",
    "### data/simplified-customer-health.csv\n",
    "\n",
    "* What is the meaning of `occupation_group_idx`? Mapping to human-readable occupation categories?\n",
    "* What is the meaning of `gender_idx`? Mapping?\n",
    "* Are units of `height` centimeters? Any data quality checks at point of entry?\n",
    "* Same for `weight`, kilograms.\n",
    "* What relationship is likely between `weight` and `height`? What do you see in the data?\n",
    "* How exactly are medical condition values assigned (`skin_cancer`, `depression`)?\n",
    "\n",
    "### data/aggregate-claims.csv\n",
    "\n",
    "* There appear to be duplicated rows in year 2023. What is cause? What data processing action should be taking if occurs again?"
   ]
  },
  {
   "cell_type": "markdown",
   "id": "0d84fb6c-ebd5-4e87-a0d4-a36ec8d1f251",
   "metadata": {},
   "source": [
    "## Task: Implement a basic data contract / expectation enforcement to flag duplicate records\n",
    "\n",
    "\n",
    "You may either implement your code here in the notebook, or within one of project's modules (a potential solution is given in `src/workshop/possible_data_contract.py`\n",
    "\n",
    "### Out-of-scope\n",
    "\n",
    "Unless you have extra time now :)\n",
    "\n",
    "* Integrate with data pipeline\n",
    "* Together with business / data producer, decide what action to take, e.g. `WARNING`, `ERROR`\n",
    "* Data document generation\n",
    "\n",
    "## A solution:\n",
    "\n",
    "Using example implementation in `src/workshop/possible_data_contract.py`"
   ]
  },
  {
   "cell_type": "code",
   "execution_count": null,
   "id": "aea56554-30a4-4218-a176-c0d71d427cca",
   "metadata": {},
   "outputs": [],
   "source": [
    "from workshop.possible_data_contract import load_data_conf, get_failed_data_expectations\n",
    "\n",
    "# (Optional) Look at project's (declarative, as data) data-exectations\n",
    "data_conf = load_data_conf()\n",
    "data_conf"
   ]
  },
  {
   "cell_type": "code",
   "execution_count": null,
   "id": "7a35e6c6-11eb-46d5-892b-b04386815c31",
   "metadata": {},
   "outputs": [],
   "source": [
    "failed_expectations = get_failed_data_expectations(df=aggregate_claims_df, expectation_suite_name='ClaimData')\n",
    "print(f'Number of failed expectations: {len(failed_expectations)}')\n"
   ]
  },
  {
   "cell_type": "code",
   "execution_count": null,
   "id": "dbc66cb7-3776-4acc-bb9a-fbbac214ff84",
   "metadata": {},
   "outputs": [],
   "source": [
    "for a_failed_expectation in failed_expectations:\n",
    "    print(a_failed_expectation['expectation_name'])\n",
    "    print(a_failed_expectation['failures'].head())"
   ]
  }
 ],
 "metadata": {
  "kernelspec": {
   "display_name": "Python 3 (ipykernel)",
   "language": "python",
   "name": "python3"
  },
  "language_info": {
   "codemirror_mode": {
    "name": "ipython",
    "version": 3
   },
   "file_extension": ".py",
   "mimetype": "text/x-python",
   "name": "python",
   "nbconvert_exporter": "python",
   "pygments_lexer": "ipython3",
   "version": "3.12.9"
  }
 },
 "nbformat": 4,
 "nbformat_minor": 5
}
