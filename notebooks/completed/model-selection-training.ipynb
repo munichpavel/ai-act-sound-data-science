{
 "cells": [
  {
   "cell_type": "markdown",
   "id": "13d093e9-718f-445b-b4a2-f7ab613959c2",
   "metadata": {},
   "source": [
    "# Using historical data and machine learning with health insurance customer segmentation\n",
    "\n",
    "## In scope\n",
    "\n",
    "* Choosing and justifying train / test / validate splits\n",
    "* High level decision on what family of ML algorithms are suitable for business task\n",
    "* Quantifying impact on subpopulations\n",
    "\n",
    "## Out of scope\n",
    "\n",
    "* Rigorous EDA\n",
    "* Pretty plots\n",
    "* Rigorous feature selection and engineering\n",
    "* Rigorous model selection\n"
   ]
  },
  {
   "cell_type": "code",
   "execution_count": 1,
   "id": "795157e7-e1f3-4bbb-a8df-1b5ca3b9d14b",
   "metadata": {},
   "outputs": [],
   "source": [
    "from pathlib import Path\n",
    "\n",
    "import pandas as pd\n",
    "import matplotlib.pyplot as plt\n",
    "import seaborn as sns\n",
    "\n",
    "import numpy as np\n"
   ]
  },
  {
   "cell_type": "code",
   "execution_count": 2,
   "id": "77c180b1-a154-4bbc-bcec-d2db914086a2",
   "metadata": {},
   "outputs": [],
   "source": [
    "def target_eda(target_values: pd.Series) -> None:\n",
    "    print(target_values.describe())\n",
    "    target_values.plot.box();\n",
    "\n",
    "    fig, axs = plt.subplots(1, 3, sharey=True, tight_layout=True)\n",
    "\n",
    "    axs[0].hist(target_values, bins=10)\n",
    "    axs[1].hist(target_values, bins=50)\n",
    "    sns.kdeplot(target_values, ax=axs[2], fill=True)\n",
    "    \n",
    "    plt.show()"
   ]
  },
  {
   "cell_type": "markdown",
   "id": "b6c23d3d-e7ff-481b-a04a-f5a333dabd3d",
   "metadata": {},
   "source": [
    "## Load entire data available"
   ]
  },
  {
   "cell_type": "code",
   "execution_count": 3,
   "id": "829f768b-de82-4493-9873-3f9f1c911729",
   "metadata": {},
   "outputs": [
    {
     "data": {
      "text/html": [
       "<div>\n",
       "<style scoped>\n",
       "    .dataframe tbody tr th:only-of-type {\n",
       "        vertical-align: middle;\n",
       "    }\n",
       "\n",
       "    .dataframe tbody tr th {\n",
       "        vertical-align: top;\n",
       "    }\n",
       "\n",
       "    .dataframe thead th {\n",
       "        text-align: right;\n",
       "    }\n",
       "</style>\n",
       "<table border=\"1\" class=\"dataframe\">\n",
       "  <thead>\n",
       "    <tr style=\"text-align: right;\">\n",
       "      <th></th>\n",
       "      <th>customer_id</th>\n",
       "      <th>height</th>\n",
       "      <th>weight</th>\n",
       "      <th>occupation_group_idx</th>\n",
       "      <th>gender_idx</th>\n",
       "      <th>skin_cancer</th>\n",
       "      <th>depression</th>\n",
       "      <th>agg_claim_amount</th>\n",
       "      <th>year</th>\n",
       "    </tr>\n",
       "  </thead>\n",
       "  <tbody>\n",
       "    <tr>\n",
       "      <th>0</th>\n",
       "      <td>0</td>\n",
       "      <td>162.29231</td>\n",
       "      <td>83.763466</td>\n",
       "      <td>3</td>\n",
       "      <td>0</td>\n",
       "      <td>0.0</td>\n",
       "      <td>0.0</td>\n",
       "      <td>10.26</td>\n",
       "      <td>2022</td>\n",
       "    </tr>\n",
       "    <tr>\n",
       "      <th>1</th>\n",
       "      <td>0</td>\n",
       "      <td>162.29231</td>\n",
       "      <td>83.763466</td>\n",
       "      <td>3</td>\n",
       "      <td>0</td>\n",
       "      <td>0.0</td>\n",
       "      <td>0.0</td>\n",
       "      <td>0.04</td>\n",
       "      <td>2023</td>\n",
       "    </tr>\n",
       "    <tr>\n",
       "      <th>2</th>\n",
       "      <td>0</td>\n",
       "      <td>162.29231</td>\n",
       "      <td>83.763466</td>\n",
       "      <td>3</td>\n",
       "      <td>0</td>\n",
       "      <td>0.0</td>\n",
       "      <td>0.0</td>\n",
       "      <td>580.92</td>\n",
       "      <td>2024</td>\n",
       "    </tr>\n",
       "    <tr>\n",
       "      <th>3</th>\n",
       "      <td>1</td>\n",
       "      <td>136.25010</td>\n",
       "      <td>53.333600</td>\n",
       "      <td>2</td>\n",
       "      <td>0</td>\n",
       "      <td>0.0</td>\n",
       "      <td>0.0</td>\n",
       "      <td>0.00</td>\n",
       "      <td>2022</td>\n",
       "    </tr>\n",
       "    <tr>\n",
       "      <th>4</th>\n",
       "      <td>1</td>\n",
       "      <td>136.25010</td>\n",
       "      <td>53.333600</td>\n",
       "      <td>2</td>\n",
       "      <td>0</td>\n",
       "      <td>0.0</td>\n",
       "      <td>0.0</td>\n",
       "      <td>0.02</td>\n",
       "      <td>2023</td>\n",
       "    </tr>\n",
       "  </tbody>\n",
       "</table>\n",
       "</div>"
      ],
      "text/plain": [
       "   customer_id     height     weight  occupation_group_idx  gender_idx  \\\n",
       "0            0  162.29231  83.763466                     3           0   \n",
       "1            0  162.29231  83.763466                     3           0   \n",
       "2            0  162.29231  83.763466                     3           0   \n",
       "3            1  136.25010  53.333600                     2           0   \n",
       "4            1  136.25010  53.333600                     2           0   \n",
       "\n",
       "   skin_cancer  depression  agg_claim_amount  year  \n",
       "0          0.0         0.0             10.26  2022  \n",
       "1          0.0         0.0              0.04  2023  \n",
       "2          0.0         0.0            580.92  2024  \n",
       "3          0.0         0.0              0.00  2022  \n",
       "4          0.0         0.0              0.02  2023  "
      ]
     },
     "execution_count": 3,
     "metadata": {},
     "output_type": "execute_result"
    }
   ],
   "source": [
    "project_root = Path('.') / '..' / '..'\n",
    "data_dir = project_root / 'data'\n",
    "notebooks_dir = project_root / 'notebooks'\n",
    "eda_out_dir = notebooks_dir / 'eda-output'\n",
    "eda_out_dir.mkdir(exist_ok=True)\n",
    "\n",
    "\n",
    "customer_df = pd.read_csv(data_dir / 'simplified-customer-health.csv')\n",
    "claims_df = pd.read_csv(data_dir / 'aggregate-claim-1.csv')  # use claims data post duplication error fix\n",
    "\n",
    "X_y_raw_df = pd.merge(customer_df, claims_df, on='customer_id', how='left')\n",
    "X_y_raw_df.head()"
   ]
  },
  {
   "cell_type": "markdown",
   "id": "cf205ef3-8c39-4468-b54f-f44476e19087",
   "metadata": {},
   "source": [
    "## Decide on train / validate / test split methodology\n",
    "\n",
    "Using statistical and business logic considerations."
   ]
  },
  {
   "cell_type": "code",
   "execution_count": 4,
   "id": "23d829fe-2757-4203-8665-3c2f26f1e725",
   "metadata": {},
   "outputs": [],
   "source": [
    "# Combine train / validation, as sample size small enough to justify k-fold cross validation\n",
    "\n",
    "test_mask = X_y_raw_df['year'] == '2024'\n",
    "\n",
    "train_raw_df = X_y_raw_df.loc[~test_mask, :]\n",
    "test_raw_df = X_y_raw_df.loc[test_mask, :]"
   ]
  },
  {
   "cell_type": "markdown",
   "id": "499e5270-c960-4639-b9a1-5a886a2ff501",
   "metadata": {},
   "source": [
    "## Task\n",
    "\n",
    "1. What assumptions are we making with this train / test / validate split methodology?\n",
    "1. What are potential weaknesses of this assumption?\n",
    "1. What are other approaches to consider, explore and document?"
   ]
  },
  {
   "cell_type": "markdown",
   "id": "90430125-75c5-4128-9ae8-d2756cdc26d4",
   "metadata": {},
   "source": [
    "## A solution\n",
    "\n",
    "1. We assume that the same customer from year to year is an independent, identically distributed random variable.\n",
    "1. An individual in year $y$ is typically not independent of the same individual in year $y-1$.\n",
    "1. A Markov chain could potentially explicitly model that records in the data splits correspond to individuals who are not necessarily indepenent from previous years."
   ]
  },
  {
   "cell_type": "markdown",
   "id": "96925b49-f341-4d49-9ddf-46c181e8d1ab",
   "metadata": {},
   "source": [
    "## Explore target, `agg_claim_amount`"
   ]
  },
  {
   "cell_type": "code",
   "execution_count": 5,
   "id": "3a75d66f-a515-4f12-b429-aa38f052fd48",
   "metadata": {},
   "outputs": [
    {
     "name": "stdout",
     "output_type": "stream",
     "text": [
      "count    6.327000e+03\n",
      "mean     5.833294e+04\n",
      "std      2.563533e+06\n",
      "min      0.000000e+00\n",
      "25%      1.000000e-02\n",
      "50%      5.100000e-01\n",
      "75%      2.183000e+01\n",
      "max      2.002250e+08\n",
      "Name: agg_claim_amount, dtype: float64\n"
     ]
    },
    {
     "data": {
      "image/png": "[encoded data removed]",
      "text/plain": [
       "<Figure size 640x480 with 1 Axes>"
      ]
     },
     "metadata": {},
     "output_type": "display_data"
    },
    {
     "data": {
      "image/png": "[encoded data removed]",
      "text/plain": [
       "<Figure size 640x480 with 3 Axes>"
      ]
     },
     "metadata": {},
     "output_type": "display_data"
    }
   ],
   "source": [
    "TARGET_COL = 'agg_claim_amount'\n",
    "target_eda(train_raw_df[TARGET_COL])"
   ]
  },
  {
   "cell_type": "code",
   "execution_count": 6,
   "id": "97c8a84f-ecd2-43a8-b4ee-fcdcd5f0a6f1",
   "metadata": {},
   "outputs": [
    {
     "name": "stdout",
     "output_type": "stream",
     "text": [
      "count    6327.000000\n",
      "mean        2.024128\n",
      "std         2.978846\n",
      "min         0.000000\n",
      "25%         0.009950\n",
      "50%         0.412110\n",
      "75%         3.128075\n",
      "max        19.114952\n",
      "Name: agg_claim_amount, dtype: float64\n"
     ]
    },
    {
     "data": {
      "image/png": "[encoded data removed]",
      "text/plain": [
       "<Figure size 640x480 with 1 Axes>"
      ]
     },
     "metadata": {},
     "output_type": "display_data"
    },
    {
     "data": {
      "image/png": "[encoded data removed]",
      "text/plain": [
       "<Figure size 640x480 with 3 Axes>"
      ]
     },
     "metadata": {},
     "output_type": "display_data"
    }
   ],
   "source": [
    "# Consider log-transformed data\n",
    "y_train_transformed = np.log(train_raw_df[TARGET_COL] + 1)\n",
    "\n",
    "target_eda(y_train_transformed)"
   ]
  },
  {
   "cell_type": "markdown",
   "id": "8ffd0034-7566-4347-94f6-ef479d623212",
   "metadata": {},
   "source": [
    "## Task\n",
    "\n",
    "What are reasons for and against splitting data into train / validation / tests before doing feature selection and engineering?"
   ]
  },
  {
   "cell_type": "markdown",
   "id": "6dd9f1ee-2a4e-4d9c-ad63-63116e0a11ef",
   "metadata": {},
   "source": [
    "## A solution\n",
    "\n",
    "* For: EDA, such as correlation analyses, can result in data leakage if done on the entire available historical data\n",
    "* For: Splitting data can surface incorrect assumptions, such as valid values for a given field\n",
    "* Against: It requires discipline and some additional work"
   ]
  },
  {
   "cell_type": "markdown",
   "id": "ad6f1116-b5f3-4076-a948-a0d59d5bc33b",
   "metadata": {},
   "source": [
    "## Task\n",
    "\n",
    "Customer segementation is often approached as an unsupervised ML problem.\n",
    "\n",
    "1. How could we approach our segmentation problem using an unsupervised approach, e.g. clustering algorithms?\n",
    "1. Are there any technical restrictions on which fields we may not used? Please justify your answer.\n",
    "1. What are some general pros and cons of clustering for this use-case?"
   ]
  },
  {
   "cell_type": "markdown",
   "id": "5d1a3bc6-18b6-4537-b602-1278340c19e7",
   "metadata": {},
   "source": [
    "## A solution\n",
    "\n",
    "1. We could use clustering, but only on fields available at the time of inference, which excluded claim data, the target of our supervised approach.\n",
    "1. Claims data is not available at the time of inference, as the new customer does not have any claims with the insurance customer yet.\n",
    "1. With clustering, it's important to decide up and justify issues like\n",
    "    * how many clusters?\n",
    "    * what do the clusters mean?\n",
    "\n",
    "In regulated AI, a significant con is the 2nd point, as technical teams have to understand and be able to document for and train the deployers (people using the segmentation model) the clusters in terms of business semantics."
   ]
  },
  {
   "cell_type": "code",
   "execution_count": null,
   "id": "3c34081f-3745-438a-a85e-a5e93d4868e7",
   "metadata": {},
   "outputs": [],
   "source": []
  }
 ],
 "metadata": {
  "kernelspec": {
   "display_name": "Python 3 (ipykernel)",
   "language": "python",
   "name": "python3"
  },
  "language_info": {
   "codemirror_mode": {
    "name": "ipython",
    "version": 3
   },
   "file_extension": ".py",
   "mimetype": "text/x-python",
   "name": "python",
   "nbconvert_exporter": "python",
   "pygments_lexer": "ipython3",
   "version": "3.12.9"
  }
 },
 "nbformat": 4,
 "nbformat_minor": 5
}
